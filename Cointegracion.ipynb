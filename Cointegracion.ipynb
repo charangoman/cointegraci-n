{
 "cells": [
  {
   "cell_type": "code",
   "execution_count": 7,
   "metadata": {},
   "outputs": [],
   "source": [
    "import pandas as pd\n",
    "import matplotlib.pyplot as plt\n",
    "import numpy as np\n",
    "from statsmodels.tsa.stattools import adfuller"
   ]
  },
  {
   "cell_type": "code",
   "execution_count": 33,
   "metadata": {},
   "outputs": [],
   "source": [
    "datos = pd.read_excel(r\"C:\\Users\\casa\\Downloads\\datos_coint.xlsx\", index_col=0)\n",
    "fila_inicio = '2015 Q1'\n",
    "datos = datos.loc[fila_inicio:]\n",
    "datos = np.log(datos).diff()\n",
    "datos = datos.iloc[1:]\n",
    "fechas = datos.index\n",
    "# variacion_data = np.log(datos).diff()\n",
    "# # infrastructure_hist = variacion_data.iloc[:,0]\n",
    "# plt.figure(figsize=(10,15))\n",
    "# variacion_data.plot(subplots=True, layout=(len(datos.columns),1))\n",
    "# plt.legend()\n",
    "# plt.tight_layout()\n",
    "# plt.show()\n"
   ]
  },
  {
   "cell_type": "code",
   "execution_count": 32,
   "metadata": {},
   "outputs": [
    {
     "name": "stdout",
     "output_type": "stream",
     "text": [
      "\n",
      "Puntos de recarga\n",
      "ADF Statistic:  7.429\n",
      "p-value:  1.0\n",
      "Critical Values:\n",
      "\t1%: -3.633\n",
      "\t5%: -2.949\n",
      "\t10%: -2.613\n",
      "\n",
      "Total (BEVs + PHEV)\n",
      "ADF Statistic:  1.115\n",
      "p-value:  0.995\n",
      "Critical Values:\n",
      "\t1%: -3.639\n",
      "\t5%: -2.951\n",
      "\t10%: -2.614\n",
      "\n",
      "BEVs\n",
      "ADF Statistic:  3.062\n",
      "p-value:  1.0\n",
      "Critical Values:\n",
      "\t1%: -3.661\n",
      "\t5%: -2.961\n",
      "\t10%: -2.619\n",
      "\n",
      "PHEV\n",
      "ADF Statistic:  0.589\n",
      "p-value:  0.987\n",
      "Critical Values:\n",
      "\t1%: -3.639\n",
      "\t5%: -2.951\n",
      "\t10%: -2.614\n",
      "\n",
      "Total (BEVs + PHEV) Por cada 1000 matriculaciones totales\n",
      "ADF Statistic:  1.104\n",
      "p-value:  0.995\n",
      "Critical Values:\n",
      "\t1%: -3.679\n",
      "\t5%: -2.968\n",
      "\t10%: -2.623\n",
      "\n",
      "BEVs Por cada 1000 matriculaciones totales\n",
      "ADF Statistic:  2.679\n",
      "p-value:  0.999\n",
      "Critical Values:\n",
      "\t1%: -3.679\n",
      "\t5%: -2.968\n",
      "\t10%: -2.623\n",
      "\n",
      "PHEV Por cada 1000 matriculaciones totales\n",
      "ADF Statistic:  0.287\n",
      "p-value:  0.977\n",
      "Critical Values:\n",
      "\t1%: -3.633\n",
      "\t5%: -2.949\n",
      "\t10%: -2.613\n"
     ]
    }
   ],
   "source": [
    "\n",
    "for columna in datos.columns:\n",
    "\n",
    "    result = adfuller(datos[columna])\n",
    "    print(f'\\n{columna}')\n",
    "    print(f'ADF Statistic:  {round(result[0],3)}')\n",
    "    print(f'p-value:  {round(result[1],3)}')\n",
    "    print('Critical Values:')\n",
    "    for key, value in result[4].items():\n",
    "        print(f'\\t{key}: {round(value,3)}')\n",
    "\n",
    "# for columna in variacion_data.columns[1:]:\n",
    "    \n",
    "#     variacion_data[columna].hist()\n",
    "\n",
    "    \n"
   ]
  },
  {
   "cell_type": "code",
   "execution_count": 11,
   "metadata": {},
   "outputs": [
    {
     "data": {
      "text/plain": [
       "36"
      ]
     },
     "execution_count": 11,
     "metadata": {},
     "output_type": "execute_result"
    }
   ],
   "source": [
    "fechas = datos.index\n",
    "len(fechas)\n"
   ]
  }
 ],
 "metadata": {
  "kernelspec": {
   "display_name": "base",
   "language": "python",
   "name": "python3"
  },
  "language_info": {
   "codemirror_mode": {
    "name": "ipython",
    "version": 3
   },
   "file_extension": ".py",
   "mimetype": "text/x-python",
   "name": "python",
   "nbconvert_exporter": "python",
   "pygments_lexer": "ipython3",
   "version": "3.10.9"
  }
 },
 "nbformat": 4,
 "nbformat_minor": 2
}
